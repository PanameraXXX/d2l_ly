{
 "cells": [
  {
   "cell_type": "markdown",
   "id": "5b88762b",
   "metadata": {},
   "source": [
    "# 层和块"
   ]
  },
  {
   "cell_type": "code",
   "execution_count": 2,
   "id": "379ed360",
   "metadata": {},
   "outputs": [],
   "source": [
    "import torch\n",
    "from torch import nn\n",
    "from torch.nn import functional as F"
   ]
  },
  {
   "cell_type": "code",
   "execution_count": 4,
   "id": "3554b96f",
   "metadata": {},
   "outputs": [
    {
     "data": {
      "text/plain": [
       "tensor([[ 0.0533,  0.2307,  0.0299, -0.1066, -0.1040, -0.0982,  0.1624, -0.1134,\n",
       "          0.0232, -0.2777],\n",
       "        [ 0.0913,  0.1593, -0.0585, -0.1206,  0.0834,  0.0217,  0.0830, -0.0665,\n",
       "         -0.1053, -0.2739]], grad_fn=<AddmmBackward>)"
      ]
     },
     "execution_count": 4,
     "metadata": {},
     "output_type": "execute_result"
    }
   ],
   "source": [
    "net = nn.Sequential(nn.Linear(20, 256), nn.ReLU(), nn.Linear(256, 10))\n",
    "X = torch.rand(2,20)\n",
    "net(X)\n",
    "# 隐藏层256，2表示batchsize， 20表示特征数"
   ]
  },
  {
   "cell_type": "markdown",
   "id": "fbf4a832",
   "metadata": {},
   "source": [
    "这里linear会自动初始w和b，这里为什么没有flatten，还没完全搞清楚flatten的作用\n",
    "nn.Sequential 定义了一种特殊的Module"
   ]
  },
  {
   "cell_type": "code",
   "execution_count": 8,
   "id": "682562eb",
   "metadata": {},
   "outputs": [],
   "source": [
    "class MLP(nn.Module):\n",
    "    def __init__(self):\n",
    "        super().__init__() # 调用父类，主要是初始化\n",
    "        self.hidden = nn.Linear(20, 256) # linear 全连接层\n",
    "        self.out = nn.Linear(256, 10)\n",
    "    \n",
    "    def forward(self, X):\n",
    "        return self.out(F.relu(self.hidden(X)))"
   ]
  },
  {
   "cell_type": "code",
   "execution_count": 13,
   "id": "2e99a495",
   "metadata": {},
   "outputs": [
    {
     "data": {
      "text/plain": [
       "tensor([[ 0.0103, -0.0004, -0.0759, -0.1301,  0.1702, -0.1276,  0.0418, -0.0915,\n",
       "         -0.0290,  0.3180],\n",
       "        [ 0.0216,  0.0712,  0.0018, -0.1916,  0.2107, -0.2853,  0.0186, -0.1828,\n",
       "          0.0812,  0.2982]], grad_fn=<AddmmBackward>)"
      ]
     },
     "execution_count": 13,
     "metadata": {},
     "output_type": "execute_result"
    }
   ],
   "source": [
    "net = MLP()\n",
    "net(X) # 继承module，而module类的call会执行forword函数"
   ]
  },
  {
   "cell_type": "code",
   "execution_count": 15,
   "id": "f901b935",
   "metadata": {},
   "outputs": [
    {
     "data": {
      "text/plain": [
       "tensor([[-0.2111,  0.0379, -0.0567, -0.1172,  0.1223,  0.0130,  0.1463, -0.1801,\n",
       "          0.0291,  0.1139],\n",
       "        [-0.0873,  0.0444,  0.0732, -0.2042,  0.1200, -0.0756,  0.1535, -0.1658,\n",
       "         -0.0282,  0.1223]], grad_fn=<AddmmBackward>)"
      ]
     },
     "execution_count": 15,
     "metadata": {},
     "output_type": "execute_result"
    }
   ],
   "source": [
    "class MySequential(nn.Module):\n",
    "        def __init__(self, *args): # *args收集list参数\n",
    "            super().__init__() # 调用父类，主要是初始化\n",
    "            for block in args:\n",
    "                self._modules[block] = block # 这里self._modules 容器，放在里面的都是需要的层\n",
    "        \n",
    "        def forward(self, X):\n",
    "            for block in self._modules.values():\n",
    "                X = block(X)\n",
    "            return X\n",
    "        \n",
    "net = MySequential(nn.Linear(20, 256), nn.ReLU(), nn.Linear(256, 10))\n",
    "net(X)\n"
   ]
  },
  {
   "cell_type": "code",
   "execution_count": 17,
   "id": "e304dcea",
   "metadata": {},
   "outputs": [
    {
     "data": {
      "text/plain": [
       "tensor(0.1447, grad_fn=<SumBackward0>)"
      ]
     },
     "execution_count": 17,
     "metadata": {},
     "output_type": "execute_result"
    }
   ],
   "source": [
    "class FixedHiddenMLP(nn.Module):\n",
    "    def __init__(self):\n",
    "        super().__init__() # 调用父类，主要是初始化\n",
    "        self.rand_weight = torch.rand((20,20), requires_grad=False)\n",
    "        self.linear = nn.Linear(20, 20)\n",
    "    \n",
    "    def forward(self, X):\n",
    "        X = self.linear(X)\n",
    "        X = F.relu(torch.mm(X, self.rand_weight)+1)\n",
    "        X = self.linear(X)\n",
    "        while X.abs().sum() >1:\n",
    "            X/=2\n",
    "        return X.sum()\n",
    "    \n",
    "net = FixedHiddenMLP()\n",
    "net(X)"
   ]
  },
  {
   "cell_type": "markdown",
   "id": "4164d810",
   "metadata": {},
   "source": [
    "# 混合搭配各种组合块的方法"
   ]
  },
  {
   "cell_type": "code",
   "execution_count": 18,
   "id": "1db1bb3e",
   "metadata": {},
   "outputs": [
    {
     "data": {
      "text/plain": [
       "tensor(-0.0687, grad_fn=<SumBackward0>)"
      ]
     },
     "execution_count": 18,
     "metadata": {},
     "output_type": "execute_result"
    }
   ],
   "source": [
    "class NestMLP(nn.Module):\n",
    "    def __init__(self):\n",
    "        super().__init__()\n",
    "        self.net = nn.Sequential(nn.Linear(20,64), nn.ReLU(), nn.Linear(64, 32), nn.ReLU())\n",
    "        self.linear = nn.Linear(32, 16)\n",
    "        \n",
    "    def forward(self, X):\n",
    "        return self.linear(self.net(X))\n",
    "\n",
    "chimera = nn.Sequential(NestMLP(), nn.Linear(16, 20), FixedHiddenMLP())\n",
    "chimera(X)"
   ]
  },
  {
   "cell_type": "code",
   "execution_count": null,
   "id": "67021264",
   "metadata": {},
   "outputs": [],
   "source": []
  }
 ],
 "metadata": {
  "kernelspec": {
   "display_name": "Python 3 (ipykernel)",
   "language": "python",
   "name": "python3"
  },
  "language_info": {
   "codemirror_mode": {
    "name": "ipython",
    "version": 3
   },
   "file_extension": ".py",
   "mimetype": "text/x-python",
   "name": "python",
   "nbconvert_exporter": "python",
   "pygments_lexer": "ipython3",
   "version": "3.7.0"
  }
 },
 "nbformat": 4,
 "nbformat_minor": 5
}
