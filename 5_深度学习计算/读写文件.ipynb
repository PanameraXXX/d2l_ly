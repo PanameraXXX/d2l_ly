{
 "cells": [
  {
   "cell_type": "code",
   "execution_count": 2,
   "id": "e662cb58",
   "metadata": {},
   "outputs": [],
   "source": [
    "import torch\n",
    "from torch import nn\n",
    "from torch.nn import functional as F\n",
    "\n",
    "x = torch.arange(4)"
   ]
  },
  {
   "cell_type": "code",
   "execution_count": 3,
   "id": "4acae5bf",
   "metadata": {},
   "outputs": [],
   "source": [
    "torch.save(x, 'x-file') # 当前目录存储"
   ]
  },
  {
   "cell_type": "code",
   "execution_count": 4,
   "id": "f8ec4652",
   "metadata": {},
   "outputs": [],
   "source": [
    "x2 = torch.load('x-file') # 载入"
   ]
  },
  {
   "cell_type": "code",
   "execution_count": 5,
   "id": "a793e997",
   "metadata": {},
   "outputs": [
    {
     "data": {
      "text/plain": [
       "tensor([0, 1, 2, 3])"
      ]
     },
     "execution_count": 5,
     "metadata": {},
     "output_type": "execute_result"
    }
   ],
   "source": [
    "x2"
   ]
  },
  {
   "cell_type": "code",
   "execution_count": 6,
   "id": "ad930dd3",
   "metadata": {},
   "outputs": [],
   "source": [
    "y = torch.zeros(4)"
   ]
  },
  {
   "cell_type": "code",
   "execution_count": 7,
   "id": "42565e42",
   "metadata": {},
   "outputs": [],
   "source": [
    "torch.save([x,y], 'x-files')\n",
    "x2,y2 = torch.load('x-files')"
   ]
  },
  {
   "cell_type": "code",
   "execution_count": 8,
   "id": "8a6d2bd3",
   "metadata": {},
   "outputs": [
    {
     "data": {
      "text/plain": [
       "(tensor([0, 1, 2, 3]), tensor([0., 0., 0., 0.]))"
      ]
     },
     "execution_count": 8,
     "metadata": {},
     "output_type": "execute_result"
    }
   ],
   "source": [
    "(x2,y2)"
   ]
  },
  {
   "cell_type": "code",
   "execution_count": 9,
   "id": "bf5f6bbc",
   "metadata": {},
   "outputs": [
    {
     "data": {
      "text/plain": [
       "{'x': tensor([0, 1, 2, 3]), 'y': tensor([0., 0., 0., 0.])}"
      ]
     },
     "execution_count": 9,
     "metadata": {},
     "output_type": "execute_result"
    }
   ],
   "source": [
    "# 写入或读取从字符串映射到张量的字典\n",
    "mydict = {\"x\":x, \"y\":y}\n",
    "torch.save(mydict, 'mydict')\n",
    "mydict2 =torch.load('mydict')\n",
    "mydict2"
   ]
  },
  {
   "cell_type": "code",
   "execution_count": 15,
   "id": "2bdb7b0e",
   "metadata": {},
   "outputs": [
    {
     "data": {
      "text/plain": [
       "tensor([[-0.3017,  0.1840, -0.3865, -0.1925, -0.3965,  0.0090,  0.4229,  0.5486,\n",
       "          0.0892, -0.1557],\n",
       "        [-0.0207, -0.0732, -0.1023, -0.0252, -0.1413,  0.1359,  0.3047,  0.0293,\n",
       "         -0.1148, -0.0616]], grad_fn=<AddmmBackward>)"
      ]
     },
     "execution_count": 15,
     "metadata": {},
     "output_type": "execute_result"
    }
   ],
   "source": [
    "# 加载和保存模型参数\n",
    "\n",
    "class MLP(nn.Module):\n",
    "    def __init__(self):\n",
    "        super().__init__() # 调用父类，主要是初始化\n",
    "        self.hidden = nn.Linear(20, 256) # linear 全连接层\n",
    "        self.output = nn.Linear(256, 10)\n",
    "    \n",
    "    def forward(self, x):\n",
    "        return self.output(F.relu(self.hidden(x)))\n",
    "\n",
    "net = MLP()\n",
    "X = torch.randn(size=(2,20))\n",
    "net(X)"
   ]
  },
  {
   "cell_type": "code",
   "execution_count": 16,
   "id": "1d0c98b7",
   "metadata": {},
   "outputs": [],
   "source": [
    "torch.save(net.state_dict(), 'mlp.params') #存储"
   ]
  },
  {
   "cell_type": "code",
   "execution_count": 17,
   "id": "cacecb68",
   "metadata": {},
   "outputs": [
    {
     "data": {
      "text/plain": [
       "MLP(\n",
       "  (hidden): Linear(in_features=20, out_features=256, bias=True)\n",
       "  (output): Linear(in_features=256, out_features=10, bias=True)\n",
       ")"
      ]
     },
     "execution_count": 17,
     "metadata": {},
     "output_type": "execute_result"
    }
   ],
   "source": [
    "# 存的时候要把网络结构带走\n",
    "clone = MLP()\n",
    "clone.load_state_dict(torch.load('mlp.params'))\n",
    "clone.eval() #这个啥意思？"
   ]
  },
  {
   "cell_type": "code",
   "execution_count": 19,
   "id": "ced9c247",
   "metadata": {},
   "outputs": [
    {
     "data": {
      "text/plain": [
       "tensor([[True, True, True, True, True, True, True, True, True, True],\n",
       "        [True, True, True, True, True, True, True, True, True, True]])"
      ]
     },
     "execution_count": 19,
     "metadata": {},
     "output_type": "execute_result"
    }
   ],
   "source": [
    "Y = net(X)\n",
    "Y_clone = clone(X)\n",
    "Y_clone == Y"
   ]
  },
  {
   "cell_type": "code",
   "execution_count": null,
   "id": "c18571c4",
   "metadata": {},
   "outputs": [],
   "source": []
  }
 ],
 "metadata": {
  "kernelspec": {
   "display_name": "Python 3 (ipykernel)",
   "language": "python",
   "name": "python3"
  },
  "language_info": {
   "codemirror_mode": {
    "name": "ipython",
    "version": 3
   },
   "file_extension": ".py",
   "mimetype": "text/x-python",
   "name": "python",
   "nbconvert_exporter": "python",
   "pygments_lexer": "ipython3",
   "version": "3.7.0"
  }
 },
 "nbformat": 4,
 "nbformat_minor": 5
}
